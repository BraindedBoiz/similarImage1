{
 "cells": [
  {
   "cell_type": "code",
   "execution_count": 1,
   "id": "6709c964",
   "metadata": {},
   "outputs": [
    {
     "ename": "SyntaxError",
     "evalue": "invalid syntax (<ipython-input-1-cf814c81f3db>, line 14)",
     "output_type": "error",
     "traceback": [
      "\u001b[1;36m  File \u001b[1;32m\"<ipython-input-1-cf814c81f3db>\"\u001b[1;36m, line \u001b[1;32m14\u001b[0m\n\u001b[1;33m    if not os.path.exists(bwDir)\u001b[0m\n\u001b[1;37m                                ^\u001b[0m\n\u001b[1;31mSyntaxError\u001b[0m\u001b[1;31m:\u001b[0m invalid syntax\n"
     ]
    }
   ],
   "source": [
    "import os\n",
    "from os.path import join \n",
    "import cv2\n",
    "import numpy as np\n",
    "import shutil\n",
    "\n",
    "def getBwLittleImgs(datasetPath):\n",
    "    for(i, classPath) in enumerate(os.listdir(datasetPath)):\n",
    "        \n",
    "        imgDir = join(datasetPath, classPath, 'detected')\n",
    "        bwDir = join(datasetPath, classPath, \"bwdir\")\n",
    "        print(classPath)\n",
    "        \n",
    "        if not os.path.exists(bwDir):\n",
    "            os.makedirs(bwDir)\n",
    "            \n",
    "        for (j, imgName) in enumerate(os.listdir(imgDir)):\n",
    "            imgPath = join(imgDir, imgName)\n",
    "            \n",
    "            image = cv2.imread(imgPath, cv2.IMREAD_GRAYSCALE)\n",
    "            if image is not None:\n",
    "                resized_image = cv2.resize(image, (32,32))\n",
    "                resized_image = np.array(resized_image)\n",
    "                cv2.imwrite(os.path.join(bwDir, imgName), resized_image)\n",
    "            else\n",
    "                print(imgPath)\n",
    "                os.remove(imgPath)\n",
    "            "
   ]
  },
  {
   "cell_type": "code",
   "execution_count": null,
   "id": "d847e34e",
   "metadata": {},
   "outputs": [],
   "source": []
  }
 ],
 "metadata": {
  "kernelspec": {
   "display_name": "Python 3",
   "language": "python",
   "name": "python3"
  },
  "language_info": {
   "codemirror_mode": {
    "name": "ipython",
    "version": 3
   },
   "file_extension": ".py",
   "mimetype": "text/x-python",
   "name": "python",
   "nbconvert_exporter": "python",
   "pygments_lexer": "ipython3",
   "version": "3.8.8"
  }
 },
 "nbformat": 4,
 "nbformat_minor": 5
}
