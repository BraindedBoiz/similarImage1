{
 "cells": [
  {
   "cell_type": "code",
   "execution_count": 3,
   "id": "36458710",
   "metadata": {},
   "outputs": [],
   "source": [
    "import os\n",
    "from PIL import Image, ImageStat\n",
    "\n"
   ]
  },
  {
   "cell_type": "code",
   "execution_count": 5,
   "id": "6e0e4280",
   "metadata": {},
   "outputs": [],
   "source": [
    "image_folder = r'C:\\Users\\ADMIN\\Desktop\\Jupyter NB\\images'\n",
    "image_files = [_ for _ in os.listdir(image_folder) if _.endswith('jpg')]\n"
   ]
  },
  {
   "cell_type": "code",
   "execution_count": 11,
   "id": "c1a7373f",
   "metadata": {},
   "outputs": [
    {
     "ename": "TypeError",
     "evalue": "remove: path should be string, bytes or os.PathLike, not list",
     "output_type": "error",
     "traceback": [
      "\u001b[1;31m---------------------------------------------------------------------------\u001b[0m",
      "\u001b[1;31mTypeError\u001b[0m                                 Traceback (most recent call last)",
      "\u001b[1;32m<ipython-input-11-defdcc4e0683>\u001b[0m in \u001b[0;36m<module>\u001b[1;34m\u001b[0m\n\u001b[0;32m     15\u001b[0m                     \u001b[0mduplicate_files\u001b[0m\u001b[1;33m.\u001b[0m\u001b[0mappend\u001b[0m\u001b[1;33m(\u001b[0m\u001b[0mfile_check\u001b[0m\u001b[1;33m)\u001b[0m\u001b[1;33m\u001b[0m\u001b[1;33m\u001b[0m\u001b[0m\n\u001b[0;32m     16\u001b[0m \u001b[1;33m\u001b[0m\u001b[0m\n\u001b[1;32m---> 17\u001b[1;33m \u001b[0mos\u001b[0m\u001b[1;33m.\u001b[0m\u001b[0mremove\u001b[0m\u001b[1;33m(\u001b[0m\u001b[0mduplicate_files\u001b[0m\u001b[1;33m)\u001b[0m\u001b[1;33m\u001b[0m\u001b[1;33m\u001b[0m\u001b[0m\n\u001b[0m\u001b[0;32m     18\u001b[0m \u001b[0mimage_folder\u001b[0m \u001b[1;33m=\u001b[0m \u001b[1;34mr'C:\\Users\\ADMIN\\Desktop\\Jupyter NB\\images'\u001b[0m\u001b[1;33m\u001b[0m\u001b[1;33m\u001b[0m\u001b[0m\n\u001b[0;32m     19\u001b[0m \u001b[0mimage_files\u001b[0m \u001b[1;33m=\u001b[0m \u001b[1;33m[\u001b[0m\u001b[0m_\u001b[0m \u001b[1;32mfor\u001b[0m \u001b[0m_\u001b[0m \u001b[1;32min\u001b[0m \u001b[0mos\u001b[0m\u001b[1;33m.\u001b[0m\u001b[0mlistdir\u001b[0m\u001b[1;33m(\u001b[0m\u001b[0mimage_folder\u001b[0m\u001b[1;33m)\u001b[0m \u001b[1;32mif\u001b[0m \u001b[0m_\u001b[0m\u001b[1;33m.\u001b[0m\u001b[0mendswith\u001b[0m\u001b[1;33m(\u001b[0m\u001b[1;34m'jpg'\u001b[0m\u001b[1;33m)\u001b[0m\u001b[1;33m]\u001b[0m\u001b[1;33m\u001b[0m\u001b[1;33m\u001b[0m\u001b[0m\n",
      "\u001b[1;31mTypeError\u001b[0m: remove: path should be string, bytes or os.PathLike, not list"
     ]
    }
   ],
   "source": [
    "duplicate_files = []\n",
    "\n",
    "for file_org in image_files:\n",
    "    if not file_org in duplicate_files:\n",
    "        image_org = Image.open(os.path.join(image_folder, file_org))\n",
    "        pix_mean1 = ImageStat.Stat(image_org).mean\n",
    "        \n",
    "        for file_check in image_files:\n",
    "            if file_check != file_org:\n",
    "                image_check = Image.open(os.path.join(image_folder, file_check))\n",
    "                pix_mean2 = ImageStat.Stat(image_check).mean \n",
    "\n",
    "                if pix_mean1 == pix_mean2:\n",
    "                    duplicate_files.append(file_org)\n",
    "                    duplicate_files.append(file_check)\n",
    "\n",
    "os.remove(duplicate_files)\n",
    "image_folder = r'C:\\Users\\ADMIN\\Desktop\\Jupyter NB\\images'\n",
    "image_files = [_ for _ in os.listdir(image_folder) if _.endswith('jpg')]\n",
    "\n",
    "print(image_files)\n",
    "\n",
    "                "
   ]
  },
  {
   "cell_type": "code",
   "execution_count": null,
   "id": "719eca6e",
   "metadata": {},
   "outputs": [],
   "source": []
  }
 ],
 "metadata": {
  "kernelspec": {
   "display_name": "Python 3",
   "language": "python",
   "name": "python3"
  },
  "language_info": {
   "codemirror_mode": {
    "name": "ipython",
    "version": 3
   },
   "file_extension": ".py",
   "mimetype": "text/x-python",
   "name": "python",
   "nbconvert_exporter": "python",
   "pygments_lexer": "ipython3",
   "version": "3.8.8"
  }
 },
 "nbformat": 4,
 "nbformat_minor": 5
}
